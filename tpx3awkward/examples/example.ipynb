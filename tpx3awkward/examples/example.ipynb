{
 "cells": [
  {
   "cell_type": "code",
   "execution_count": 1,
   "id": "76010898-2082-49cb-9bff-8173fd79ad6e",
   "metadata": {
    "tags": []
   },
   "outputs": [],
   "source": [
    "import _utils as tpx\n",
    "import pandas as pd\n",
    "from tiled.client import from_uri\n",
    "db = from_uri('https://tiled.nsls2.bnl.gov', 'dask')['chx']['raw']"
   ]
  },
  {
   "cell_type": "code",
   "execution_count": 2,
   "id": "59bb0e40-1686-413c-8595-c38655e2d0d6",
   "metadata": {
    "tags": []
   },
   "outputs": [],
   "source": [
    "sid = 143200 # example SID (1800 partitions at 1 sec/partition from NSLS-II quantum microscope project)"
   ]
  },
  {
   "cell_type": "code",
   "execution_count": 3,
   "id": "1b629cf7-1d46-49b9-a41b-43f3b9972f4e",
   "metadata": {
    "tags": []
   },
   "outputs": [
    {
     "name": "stdout",
     "output_type": "stream",
     "text": [
      "Raw dataframe: \n",
      "          x    y  ToT          t  chip\n",
      "0       502  452  475   11301032     1\n",
      "1       405  272  275   11302904     1\n",
      "2       406  272  350   11302904     1\n",
      "3       295  135  525   11303039     0\n",
      "4       358  509  300   11303780     1\n",
      "...     ...  ...  ...        ...   ...\n",
      "971254  200   46  550  651295354     3\n",
      "971255  489  104  450  651296021     0\n",
      "971256  389   21  300  651296305     0\n",
      "971257  390   21  300  651296306     0\n",
      "971258   37  325   75  651299518     2\n",
      "\n",
      "[971259 rows x 5 columns]\n",
      "Centroided dataframe: \n",
      "                t          xc     yc  ToT_max  ToT_sum  n\n",
      "0        11301032  502.000000  452.0      475      475  1\n",
      "1        11302904  405.559998  272.0      350      625  2\n",
      "2        11303039  295.000000  135.0      525      525  1\n",
      "3        11303780  358.478271  509.0      300      575  2\n",
      "4        11303973  412.409088   60.0      325      550  2\n",
      "...           ...         ...    ...      ...      ... ..\n",
      "659582  651294809  326.000000  379.0      475      475  1\n",
      "659583  651295354  200.000000   46.0      550      550  1\n",
      "659584  651296021  489.000000  104.0      450      450  1\n",
      "659585  651296305  389.500000   21.0      300      600  2\n",
      "659586  651299518   37.000000  325.0       75       75  1\n",
      "\n",
      "[659587 rows x 6 columns]\n",
      "Centroided dataframe: \n",
      "                t          xc     yc  ToT_max  ToT_sum  n    x    y  \\\n",
      "0        11301032  504.000000  454.0      475      475  1  504  454   \n",
      "1        11302904  407.559998  274.0      350      625  2  408  274   \n",
      "2        11303039  297.000000  135.0      525      525  1  297  135   \n",
      "3        11303780  360.478271  511.0      300      575  2  360  511   \n",
      "4        11303973  414.409088   60.0      325      550  2  414   60   \n",
      "...           ...         ...    ...      ...      ... ..  ...  ...   \n",
      "659582  651294809  328.000000  381.0      475      475  1  328  381   \n",
      "659583  651295354  200.000000   46.0      550      550  1  200   46   \n",
      "659584  651296021  491.000000  104.0      450      450  1  491  104   \n",
      "659585  651296305  391.500000   21.0      300      600  2  392   21   \n",
      "659586  651299518   37.000000  327.0       75       75  1   37  327   \n",
      "\n",
      "                t_ns  \n",
      "0       1.765786e+07  \n",
      "1       1.766079e+07  \n",
      "2       1.766100e+07  \n",
      "3       1.766216e+07  \n",
      "4       1.766246e+07  \n",
      "...              ...  \n",
      "659582  1.017648e+09  \n",
      "659583  1.017649e+09  \n",
      "659584  1.017650e+09  \n",
      "659585  1.017650e+09  \n",
      "659586  1.017655e+09  \n",
      "\n",
      "[659587 rows x 9 columns]\n",
      "Partition duration: 0.999997634375 sec.\n"
     ]
    }
   ],
   "source": [
    "files = db[sid]['primary']['data']['tpx3_files_raw_filepaths'][0].compute()\n",
    "\n",
    "file = files[0][5:] # cut off 'file:' from beginning\n",
    "\n",
    "df = tpx.tpx_to_raw_df(file)\n",
    "cdf = tpx.raw_df_to_cent_df(df)\n",
    "\n",
    "print('Raw dataframe: ')\n",
    "print(df)\n",
    "\n",
    "print('Centroided dataframe: ')\n",
    "print(cdf)\n",
    "\n",
    "cdf = tpx.add_centroid_cols(cdf)\n",
    "print('Centroided dataframe: ')\n",
    "print(cdf)\n",
    "\n",
    "duration = (cdf.iloc[-1]['t_ns'] - cdf.iloc[0]['t_ns'])/1e9\n",
    "print(f'Partition duration: {duration} sec.')"
   ]
  },
  {
   "cell_type": "code",
   "execution_count": 4,
   "id": "48254ae7-8d0c-4766-b1d1-2b7f4732934c",
   "metadata": {},
   "outputs": [],
   "source": [
    "sid = 143201 # new example SID (1800 partitions at 1 sec/partition from NSLS-II quantum microscope project)"
   ]
  },
  {
   "cell_type": "code",
   "execution_count": 5,
   "id": "2adae433-a68c-436e-9640-d4a9745af969",
   "metadata": {
    "tags": []
   },
   "outputs": [
    {
     "name": "stdout",
     "output_type": "stream",
     "text": [
      "-> Processing /nsls2/data/chx/legacy/data/2024/02/05/33008fb5-d9f5-4f46-8b5d_00000_000000.tpx3, size: 10.5 MB\n",
      "Loading /nsls2/data/chx/legacy/data/2024/02/05/33008fb5-d9f5-4f46-8b5d_00000_000000.tpx3 data into dataframe...\n",
      "Loading /nsls2/data/chx/legacy/data/2024/02/05/33008fb5-d9f5-4f46-8b5d_00000_000000.tpx3 complete. 975938 events found. Saving to: /nsls2/data/chx/legacy/data/2024/02/05/33008fb5-d9f5-4f46-8b5d_00000_000000.h5\n",
      "Saving /nsls2/data/chx/legacy/data/2024/02/05/33008fb5-d9f5-4f46-8b5d_00000_000000.h5 complete. Beginning clustering...\n",
      "Clustering /nsls2/data/chx/legacy/data/2024/02/05/33008fb5-d9f5-4f46-8b5d_00000_000000.tpx3 complete. 659537 clusters found. Saving to /nsls2/data/chx/legacy/data/2024/02/05/33008fb5-d9f5-4f46-8b5d_00000_000000_cent.h5\n",
      "Saving /nsls2/data/chx/legacy/data/2024/02/05/33008fb5-d9f5-4f46-8b5d_00000_000000_cent.h5 complete. Moving onto next file.\n",
      "-> Processing /nsls2/data/chx/legacy/data/2024/02/05/33008fb5-d9f5-4f46-8b5d_00000_000001.tpx3, size: 10.5 MB\n",
      "Loading /nsls2/data/chx/legacy/data/2024/02/05/33008fb5-d9f5-4f46-8b5d_00000_000001.tpx3 data into dataframe...\n",
      "Loading /nsls2/data/chx/legacy/data/2024/02/05/33008fb5-d9f5-4f46-8b5d_00000_000001.tpx3 complete. 972867 events found. Saving to: /nsls2/data/chx/legacy/data/2024/02/05/33008fb5-d9f5-4f46-8b5d_00000_000001.h5\n",
      "Saving /nsls2/data/chx/legacy/data/2024/02/05/33008fb5-d9f5-4f46-8b5d_00000_000001.h5 complete. Beginning clustering...\n",
      "Clustering /nsls2/data/chx/legacy/data/2024/02/05/33008fb5-d9f5-4f46-8b5d_00000_000001.tpx3 complete. 657491 clusters found. Saving to /nsls2/data/chx/legacy/data/2024/02/05/33008fb5-d9f5-4f46-8b5d_00000_000001_cent.h5\n",
      "Saving /nsls2/data/chx/legacy/data/2024/02/05/33008fb5-d9f5-4f46-8b5d_00000_000001_cent.h5 complete. Moving onto next file.\n"
     ]
    }
   ],
   "source": [
    "files = db[sid]['primary']['data']['tpx3_files_raw_filepaths'][0].compute()\n",
    "files = [f.replace('file:', '') for f in files]\n",
    "tpx.convert_tpx3_files(files[0:2])"
   ]
  },
  {
   "cell_type": "code",
   "execution_count": 6,
   "id": "05332e5b-17eb-4074-ad92-51ef1273e9f4",
   "metadata": {
    "tags": []
   },
   "outputs": [
    {
     "name": "stdout",
     "output_type": "stream",
     "text": [
      "Raw dataframe: \n",
      "          x    y  ToT          t  chip\n",
      "0       210  132  575   11294477     3\n",
      "1       106  227  375   11294540     3\n",
      "2       107  227  150   11294544     3\n",
      "3       381  346  475   11294882     1\n",
      "4       268  444  450   11295743     1\n",
      "...     ...  ...  ...        ...   ...\n",
      "975933  103  441  600  651291179     2\n",
      "975934  193  383  450  651294115     2\n",
      "975935  121  280  400  651294141     2\n",
      "975936  256  373  400  651294145     1\n",
      "975937  255  373   50  651294166     2\n",
      "\n",
      "[975938 rows x 5 columns]\n",
      "Centroided dataframe: \n",
      "                t          xc     yc  ToT_max  ToT_sum  n\n",
      "0        11294477  210.000000  132.0      575      575  1\n",
      "1        11294540  106.285713  227.0      375      525  2\n",
      "2        11294882  381.000000  346.0      475      475  1\n",
      "3        11295743  268.000000  444.0      450      450  1\n",
      "4        11298466  420.000000   52.0      450      450  1\n",
      "...           ...         ...    ...      ...      ... ..\n",
      "659532  651290601  101.000000  436.0      575      575  1\n",
      "659533  651291179  103.000000  441.0      600      600  1\n",
      "659534  651294115  193.000000  383.0      450      450  1\n",
      "659535  651294141  121.000000  280.0      400      400  1\n",
      "659536  651294145  255.888885  373.0      400      450  2\n",
      "\n",
      "[659537 rows x 6 columns]\n",
      "Centroided dataframe: \n",
      "                t          xc     yc  ToT_max  ToT_sum  n    x    y  \\\n",
      "0        11294477  210.000000  132.0      575      575  1  210  132   \n",
      "1        11294540  106.285713  227.0      375      525  2  106  227   \n",
      "2        11294882  383.000000  348.0      475      475  1  383  348   \n",
      "3        11295743  270.000000  446.0      450      450  1  270  446   \n",
      "4        11298466  422.000000   52.0      450      450  1  422   52   \n",
      "...           ...         ...    ...      ...      ... ..  ...  ...   \n",
      "659532  651290601  101.000000  438.0      575      575  1  101  438   \n",
      "659533  651291179  103.000000  443.0      600      600  1  103  443   \n",
      "659534  651294115  193.000000  385.0      450      450  1  193  385   \n",
      "659535  651294141  121.000000  282.0      400      400  1  121  282   \n",
      "659536  651294145  257.888885  375.0      400      450  2  258  375   \n",
      "\n",
      "                t_ns  \n",
      "0       1.764762e+07  \n",
      "1       1.764772e+07  \n",
      "2       1.764825e+07  \n",
      "3       1.764960e+07  \n",
      "4       1.765385e+07  \n",
      "...              ...  \n",
      "659532  1.017642e+09  \n",
      "659533  1.017642e+09  \n",
      "659534  1.017647e+09  \n",
      "659535  1.017647e+09  \n",
      "659536  1.017647e+09  \n",
      "\n",
      "[659537 rows x 9 columns]\n",
      "Partition duration: 0.99999948125 sec.\n"
     ]
    }
   ],
   "source": [
    "df = pd.read_hdf('/nsls2/data/chx/legacy/data/2024/02/05/33008fb5-d9f5-4f46-8b5d_00000_000000.h5')\n",
    "cdf = pd.read_hdf('/nsls2/data/chx/legacy/data/2024/02/05/33008fb5-d9f5-4f46-8b5d_00000_000000_cent.h5')\n",
    "\n",
    "print('Raw dataframe: ')\n",
    "print(df)\n",
    "\n",
    "print('Centroided dataframe: ')\n",
    "print(cdf)\n",
    "\n",
    "cdf = tpx.add_centroid_cols(cdf)\n",
    "print('Centroided dataframe: ')\n",
    "print(cdf)\n",
    "\n",
    "duration = (cdf.iloc[-1]['t_ns'] - cdf.iloc[0]['t_ns'])/1e9\n",
    "print(f'Partition duration: {duration} sec.')"
   ]
  },
  {
   "cell_type": "code",
   "execution_count": 7,
   "id": "c981be40-e631-4f73-bbab-4fadda8b9285",
   "metadata": {
    "tags": []
   },
   "outputs": [
    {
     "name": "stderr",
     "output_type": "stream",
     "text": [
      "100%|██████████| 1800/1800 [07:51<00:00,  3.82it/s]\n"
     ]
    }
   ],
   "source": [
    "try:\n",
    "    files = db[sid]['primary']['data']['tpx3_files_raw_filepaths'][0].compute()\n",
    "    files = [f.replace('file:', '') for f in files]\n",
    "    tpx.convert_tpx3_files_parallel(files)\n",
    "    \n",
    "except Exception as e:\n",
    "    print(f'Could not finish {sid} due to {e}') "
   ]
  },
  {
   "cell_type": "code",
   "execution_count": 9,
   "id": "946fa74f-8c8c-4f36-bc0c-9f203e023f78",
   "metadata": {
    "tags": []
   },
   "outputs": [
    {
     "name": "stdout",
     "output_type": "stream",
     "text": [
      "All raw .h5 files exist!\n",
      "All centroided raw .h5 files exist!\n"
     ]
    }
   ],
   "source": [
    "import os\n",
    "\n",
    "raw_h5_files = [os.path.exists(f.replace('.tpx3', '.h5')) for f in files]\n",
    "cent_h5_files = [os.path.exists(f.replace('.tpx3', '_cent.h5')) for f in files]\n",
    "\n",
    "if all(raw_h5_files):\n",
    "    print('All raw .h5 files exist!')\n",
    "else:\n",
    "    print('Missing .h5 files!')\n",
    "    \n",
    "if all(cent_h5_files):\n",
    "    print('All centroided raw .h5 files exist!')\n",
    "else:\n",
    "    print('Missing centroided .h5 files!')"
   ]
  },
  {
   "cell_type": "code",
   "execution_count": null,
   "id": "705c639d-dac9-4517-b5ff-ce44365ed4df",
   "metadata": {},
   "outputs": [],
   "source": []
  }
 ],
 "metadata": {
  "kernelspec": {
   "display_name": "Python 3 (ipykernel)",
   "language": "python",
   "name": "python3"
  },
  "language_info": {
   "codemirror_mode": {
    "name": "ipython",
    "version": 3
   },
   "file_extension": ".py",
   "mimetype": "text/x-python",
   "name": "python",
   "nbconvert_exporter": "python",
   "pygments_lexer": "ipython3",
   "version": "3.11.6"
  }
 },
 "nbformat": 4,
 "nbformat_minor": 5
}
